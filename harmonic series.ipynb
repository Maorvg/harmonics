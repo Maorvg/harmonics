{
 "cells": [
  {
   "cell_type": "code",
   "execution_count": 28,
   "metadata": {},
   "outputs": [
    {
     "name": "stdout",
     "output_type": "stream",
     "text": [
      " harmonic number  1  is  150  hertz\n",
      " harmonic number  2  is  300  hertz\n",
      " harmonic number  3  is  450  hertz\n",
      " harmonic number  4  is  600  hertz\n",
      " harmonic number  5  is  750  hertz\n",
      " harmonic number  6  is  900  hertz\n",
      " harmonic number  7  is  1050  hertz\n",
      " harmonic number  8  is  1200  hertz\n",
      " harmonic number  9  is  1350  hertz\n",
      " harmonic number  10  is  1500  hertz\n",
      " harmonic number  11  is  1650  hertz\n",
      " harmonic number  12  is  1800  hertz\n",
      " harmonic number  13  is  1950  hertz\n",
      " harmonic number  14  is  2100  hertz\n",
      " harmonic number  15  is  2250  hertz\n",
      " harmonic number  16  is  2400  hertz\n",
      " harmonic number  17  is  2550  hertz\n",
      " harmonic number  18  is  2700  hertz\n",
      " harmonic number  19  is  2850  hertz\n"
     ]
    }
   ],
   "source": [
    "import winsound\n",
    "import time\n",
    "frequency = 150  # Set Frequency To 2500 Hertz\n",
    "duration = 500  # Set Duration To 1000 ms == 1 second\n",
    "for i in range(1,20):\n",
    "    winsound.Beep(frequency*i, duration)\n",
    "    print (' harmonic number ',i,' is ',frequency*i, ' hertz')\n",
    "    time.sleep(1)\n",
    "\n"
   ]
  },
  {
   "cell_type": "code",
   "execution_count": null,
   "metadata": {},
   "outputs": [],
   "source": []
  }
 ],
 "metadata": {
  "kernelspec": {
   "display_name": "Python 3",
   "language": "python",
   "name": "python3"
  },
  "language_info": {
   "codemirror_mode": {
    "name": "ipython",
    "version": 3
   },
   "file_extension": ".py",
   "mimetype": "text/x-python",
   "name": "python",
   "nbconvert_exporter": "python",
   "pygments_lexer": "ipython3",
   "version": "3.8.5"
  }
 },
 "nbformat": 4,
 "nbformat_minor": 4
}
